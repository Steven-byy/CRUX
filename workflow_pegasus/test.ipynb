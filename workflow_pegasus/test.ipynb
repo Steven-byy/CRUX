{
 "cells": [
  {
   "cell_type": "code",
   "execution_count": 40,
   "metadata": {
    "collapsed": true,
    "pycharm": {
     "name": "#%%\n"
    }
   },
   "outputs": [],
   "source": [
    "import os"
   ]
  },
  {
   "cell_type": "code",
   "execution_count": 41,
   "outputs": [],
   "source": [
    "cmd = \"cd /Users/bianyiyang/airflow/dags/CRUX/to_cards/ && python3 source.py --name 'Jacob L. Jones'\\\n",
    "                  --affiliation 'North Carolina State University'\\\n",
    "                  --positions 'Kobe Distinguished Professor, Materials Science and Engineering'\\\n",
    "                  --positions 'Director, Science and Technologies for Phosphorus Sustainability (STEPS) Center'\\\n",
    "                  --positions 'Director, Research Triangle Nanotechnology Network'\\\n",
    "                  --address '3072B Engineering Building I, Raleigh, NC'\\\n",
    "                  --phone 919-515-4557\\\n",
    "                  --email jacobjones@ncsu.edu && python3 source.py --name 'Mauro Sardela'\\\n",
    "                  --affiliation 'University of Illinois at Urbana-Champaign'\\\n",
    "                  --positions 'Director, Central Research Facilities, Materials Research Laboratory'\\\n",
    "                  --address '104 S. Goodwin Avenue – Urbana IL 61801'\\\n",
    "                  --website www.mrl.illinois.edu\\\n",
    "                  --phone 217-244-0547\\\n",
    "                  --email sardela@illinois.edu\\\n",
    "                  --office '#SC2014'\""
   ],
   "metadata": {
    "collapsed": false,
    "pycharm": {
     "name": "#%%\n"
    }
   }
  },
  {
   "cell_type": "code",
   "execution_count": 42,
   "outputs": [],
   "source": [
    "res = os.system(cmd)"
   ],
   "metadata": {
    "collapsed": false,
    "pycharm": {
     "name": "#%%\n"
    }
   }
  },
  {
   "cell_type": "code",
   "execution_count": 43,
   "outputs": [
    {
     "name": "stdout",
     "output_type": "stream",
     "text": [
      "0\n"
     ]
    }
   ],
   "source": [
    "print(res)"
   ],
   "metadata": {
    "collapsed": false,
    "pycharm": {
     "name": "#%%\n"
    }
   }
  }
 ],
 "metadata": {
  "kernelspec": {
   "display_name": "Python 3",
   "language": "python",
   "name": "python3"
  },
  "language_info": {
   "codemirror_mode": {
    "name": "ipython",
    "version": 2
   },
   "file_extension": ".py",
   "mimetype": "text/x-python",
   "name": "python",
   "nbconvert_exporter": "python",
   "pygments_lexer": "ipython2",
   "version": "2.7.6"
  }
 },
 "nbformat": 4,
 "nbformat_minor": 0
}