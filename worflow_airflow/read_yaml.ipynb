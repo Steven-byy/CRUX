{
 "cells": [
  {
   "cell_type": "code",
   "execution_count": 238,
   "metadata": {
    "collapsed": true,
    "pycharm": {
     "name": "#%%\n"
    }
   },
   "outputs": [],
   "source": [
    "import yaml\n",
    "import os"
   ]
  },
  {
   "cell_type": "code",
   "execution_count": 239,
   "outputs": [
    {
     "name": "stdout",
     "output_type": "stream",
     "text": [
      "/Users/bianyiyang/airflow/dags/CRUX/worflow_airflow/peak_finding.yaml\n"
     ]
    }
   ],
   "source": [
    "script_path = os.path.dirname(os.path.realpath('/Users/bianyiyang/airflow/dags/CRUX/worflow_airflow/read_yaml.ipynb'))\n",
    "# print(script_path)\n",
    "yaml_path = os.path.join(script_path,\"peak_finding.yaml\")\n",
    "print(yaml_path)"
   ],
   "metadata": {
    "collapsed": false,
    "pycharm": {
     "name": "#%%\n"
    }
   }
  },
  {
   "cell_type": "code",
   "execution_count": 240,
   "outputs": [
    {
     "name": "stdout",
     "output_type": "stream",
     "text": [
      "{'piVersion': 'argoproj.io/v1alpha1', 'kind': 'Workflow', 'default_args': {'owner': 'byy', 'depends_on_past': True, 'start_date': 'datetime(2022, 6, 2)', 'email': ['byy981109@gmail.com'], 'email_on_failure': False, 'email_on_retry': False, 'retries': 1, 'retry_delay': 'timedelta(minutes=5)'}, 'dag': {'name': 'peak_finding', 'default_args': 'default_args', 'description': 'peakfinding', 'schedule_interval': 'timedelta(1)'}, 'tasks': [{'task_id': 'source_information', 'operator': 'BashOperator', 'id': 'ID0000001', 'depends': '', 'retries': 3, 'dag': 'dag', 'arguments': {'parameters': [{'name': 'message', 'value': 'task1'}, {'input': 'source_data'}, {'output': ''}]}}, {'task_id': 'data_cards', 'operator': 'BashOperator', 'id': 'ID0000002', 'depends': 'task1', 'retries': 3, 'dag': 'dag', 'arguments': {'parameters': [{'name': 'message', 'value': 'task2'}, {'input': 'rawdata'}, {'output': ''}]}}, {'task_id': 'task_cards', 'operator': 'BashOperator', 'id': 'ID0000003', 'depends': 'task2', 'retries': 3, 'dag': 'dag', 'arguments': {'parameters': [{'name': 'message', 'value': 'task3'}, {'input': 'positions_intensities'}, {'output': 'peaklist'}]}}]}\n"
     ]
    }
   ],
   "source": [
    "cfg = open(yaml_path,'r').read()\n",
    "yaml_info = yaml.load(cfg,Loader=yaml.FullLoader)\n",
    "print(yaml_info)"
   ],
   "metadata": {
    "collapsed": false,
    "pycharm": {
     "name": "#%%\n"
    }
   }
  },
  {
   "cell_type": "code",
   "execution_count": 241,
   "outputs": [
    {
     "name": "stdout",
     "output_type": "stream",
     "text": [
      "{'task_id': 'source_information', 'operator': 'BashOperator', 'id': 'ID0000001', 'depends': '', 'retries': 3, 'dag': 'dag', 'arguments': {'parameters': [{'name': 'message', 'value': 'task1'}, {'input': 'source_data'}, {'output': ''}]}}\n",
      "{'task_id': 'data_cards', 'operator': 'BashOperator', 'id': 'ID0000002', 'depends': 'task1', 'retries': 3, 'dag': 'dag', 'arguments': {'parameters': [{'name': 'message', 'value': 'task2'}, {'input': 'rawdata'}, {'output': ''}]}}\n",
      "{'task_id': 'task_cards', 'operator': 'BashOperator', 'id': 'ID0000003', 'depends': 'task2', 'retries': 3, 'dag': 'dag', 'arguments': {'parameters': [{'name': 'message', 'value': 'task3'}, {'input': 'positions_intensities'}, {'output': 'peaklist'}]}}\n"
     ]
    }
   ],
   "source": [
    "for key in yaml_info['tasks']:\n",
    "    print(key)\n",
    "# print(\"Dag:%s\" % host_info['spec']['templates']['dag']['tasks'])"
   ],
   "metadata": {
    "collapsed": false,
    "pycharm": {
     "name": "#%%\n"
    }
   }
  },
  {
   "cell_type": "code",
   "execution_count": 242,
   "outputs": [
    {
     "name": "stdout",
     "output_type": "stream",
     "text": [
      "{'owner': 'byy', 'depends_on_past': True, 'start_date': 'datetime(2022, 6, 2)', 'email': ['byy981109@gmail.com'], 'email_on_failure': False, 'email_on_retry': False, 'retries': 1, 'retry_delay': 'timedelta(minutes=5)'}\n"
     ]
    }
   ],
   "source": [
    "print(yaml_info['default_args'])"
   ],
   "metadata": {
    "collapsed": false,
    "pycharm": {
     "name": "#%%\n"
    }
   }
  },
  {
   "cell_type": "code",
   "execution_count": 243,
   "outputs": [
    {
     "name": "stdout",
     "output_type": "stream",
     "text": [
      "{'task_id': 'source_information', 'operator': 'BashOperator', 'id': 'ID0000001', 'depends': '', 'retries': 3, 'dag': 'dag', 'arguments': {'parameters': [{'name': 'message', 'value': 'task1'}, {'input': 'source_data'}, {'output': ''}]}}\n"
     ]
    }
   ],
   "source": [
    "print(yaml_info['tasks'][0])"
   ],
   "metadata": {
    "collapsed": false,
    "pycharm": {
     "name": "#%%\n"
    }
   }
  },
  {
   "cell_type": "code",
   "execution_count": 244,
   "outputs": [],
   "source": [
    "from airflow import DAG\n",
    "from airflow.operators.bash import BashOperator\n",
    "from airflow.operators.python import PythonOperator\n",
    "from datetime import datetime, timedelta"
   ],
   "metadata": {
    "collapsed": false,
    "pycharm": {
     "name": "#%%\n"
    }
   }
  },
  {
   "cell_type": "code",
   "execution_count": 244,
   "outputs": [],
   "source": [],
   "metadata": {
    "collapsed": false,
    "pycharm": {
     "name": "#%%\n"
    }
   }
  },
  {
   "cell_type": "code",
   "execution_count": 245,
   "outputs": [
    {
     "name": "stdout",
     "output_type": "stream",
     "text": [
      "default_args\n"
     ]
    }
   ],
   "source": [
    "print(yaml_info['dag']['default_args'])\n"
   ],
   "metadata": {
    "collapsed": false,
    "pycharm": {
     "name": "#%%\n"
    }
   }
  },
  {
   "cell_type": "code",
   "execution_count": 246,
   "outputs": [
    {
     "name": "stdout",
     "output_type": "stream",
     "text": [
      "default_args\n",
      "<DAG: peak_finding>\n"
     ]
    }
   ],
   "source": [
    "default_args = {\n",
    "    'owner': yaml_info['default_args']['owner'],\n",
    "    'depends_on_past': yaml_info['default_args']['depends_on_past'],\n",
    "    'start_date': eval(yaml_info['default_args']['start_date']),\n",
    "    'email': yaml_info['default_args']['email'],\n",
    "    'email_on_failure': yaml_info['default_args']['email_on_failure'],\n",
    "    'email_on_retry': yaml_info['default_args']['email_on_retry'],\n",
    "    'retries': yaml_info['default_args']['retries'],\n",
    "    'retry_delay':eval(yaml_info['default_args']['retry_delay']),\n",
    "}\n",
    "print(yaml_info['dag']['default_args'])\n",
    "dag = DAG(\n",
    "    dag_id = yaml_info['dag']['name'],\n",
    "    default_args = default_args,\n",
    "    description = \"'\"+yaml_info['dag']['description']+\"'\",\n",
    "    schedule_interval = yaml_info['dag']['schedule_interval'],\n",
    ")\n",
    "\n",
    "print(dag)"
   ],
   "metadata": {
    "collapsed": false,
    "pycharm": {
     "name": "#%%\n"
    }
   }
  },
  {
   "cell_type": "code",
   "execution_count": 247,
   "outputs": [
    {
     "name": "stdout",
     "output_type": "stream",
     "text": [
      "BashOperator\n"
     ]
    }
   ],
   "source": [
    "print(yaml_info['tasks'][0]['operator'])"
   ],
   "metadata": {
    "collapsed": false,
    "pycharm": {
     "name": "#%%\n"
    }
   }
  },
  {
   "cell_type": "code",
   "execution_count": 248,
   "outputs": [
    {
     "ename": "TypeError",
     "evalue": "'str' object is not callable",
     "output_type": "error",
     "traceback": [
      "\u001B[0;31m---------------------------------------------------------------------------\u001B[0m",
      "\u001B[0;31mTypeError\u001B[0m                                 Traceback (most recent call last)",
      "Input \u001B[0;32mIn [248]\u001B[0m, in \u001B[0;36m<module>\u001B[0;34m\u001B[0m\n\u001B[0;32m----> 1\u001B[0m task1 \u001B[38;5;241m=\u001B[39m \u001B[43myaml_info\u001B[49m\u001B[43m[\u001B[49m\u001B[38;5;124;43m'\u001B[39;49m\u001B[38;5;124;43mtasks\u001B[39;49m\u001B[38;5;124;43m'\u001B[39;49m\u001B[43m]\u001B[49m\u001B[43m[\u001B[49m\u001B[38;5;241;43m0\u001B[39;49m\u001B[43m]\u001B[49m\u001B[43m[\u001B[49m\u001B[38;5;124;43m'\u001B[39;49m\u001B[38;5;124;43moperator\u001B[39;49m\u001B[38;5;124;43m'\u001B[39;49m\u001B[43m]\u001B[49m\u001B[43m(\u001B[49m\n\u001B[1;32m      2\u001B[0m \u001B[43m    \u001B[49m\u001B[43mtask_id\u001B[49m\u001B[38;5;241;43m=\u001B[39;49m\u001B[43m \u001B[49m\u001B[43myaml_info\u001B[49m\u001B[43m[\u001B[49m\u001B[38;5;124;43m'\u001B[39;49m\u001B[38;5;124;43mtasks\u001B[39;49m\u001B[38;5;124;43m'\u001B[39;49m\u001B[43m]\u001B[49m\u001B[43m[\u001B[49m\u001B[38;5;241;43m0\u001B[39;49m\u001B[43m]\u001B[49m\u001B[43m[\u001B[49m\u001B[38;5;124;43m'\u001B[39;49m\u001B[38;5;124;43mtask_id\u001B[39;49m\u001B[38;5;124;43m'\u001B[39;49m\u001B[43m]\u001B[49m\u001B[43m,\u001B[49m\n\u001B[1;32m      3\u001B[0m \u001B[43m    \u001B[49m\u001B[43mbash_command\u001B[49m\u001B[38;5;241;43m=\u001B[39;49m\u001B[38;5;124;43m\"\u001B[39;49m\u001B[38;5;124;43mcd /Users/bianyiyang/airflow/dags/CRUX/to_cards/ && python3 generate_source.py --name \u001B[39;49m\u001B[38;5;124;43m'\u001B[39;49m\u001B[38;5;124;43mJacob L. Jones\u001B[39;49m\u001B[38;5;124;43m'\u001B[39;49m\u001B[38;5;130;43;01m\\\u001B[39;49;00m\n\u001B[1;32m      4\u001B[0m \u001B[38;5;124;43m                  --affiliation \u001B[39;49m\u001B[38;5;124;43m'\u001B[39;49m\u001B[38;5;124;43mNorth Carolina State University\u001B[39;49m\u001B[38;5;124;43m'\u001B[39;49m\u001B[38;5;130;43;01m\\\u001B[39;49;00m\n\u001B[1;32m      5\u001B[0m \u001B[38;5;124;43m                  --positions \u001B[39;49m\u001B[38;5;124;43m'\u001B[39;49m\u001B[38;5;124;43mKobe Distinguished Professor, Materials Science and Engineering\u001B[39;49m\u001B[38;5;124;43m'\u001B[39;49m\u001B[38;5;130;43;01m\\\u001B[39;49;00m\n\u001B[1;32m      6\u001B[0m \u001B[38;5;124;43m                  --positions \u001B[39;49m\u001B[38;5;124;43m'\u001B[39;49m\u001B[38;5;124;43mDirector, Science and Technologies for Phosphorus Sustainability (STEPS) Center\u001B[39;49m\u001B[38;5;124;43m'\u001B[39;49m\u001B[38;5;130;43;01m\\\u001B[39;49;00m\n\u001B[1;32m      7\u001B[0m \u001B[38;5;124;43m                  --positions \u001B[39;49m\u001B[38;5;124;43m'\u001B[39;49m\u001B[38;5;124;43mDirector, Research Triangle Nanotechnology Network\u001B[39;49m\u001B[38;5;124;43m'\u001B[39;49m\u001B[38;5;130;43;01m\\\u001B[39;49;00m\n\u001B[1;32m      8\u001B[0m \u001B[38;5;124;43m                  --address \u001B[39;49m\u001B[38;5;124;43m'\u001B[39;49m\u001B[38;5;124;43m3072B Engineering Building I, Raleigh, NC\u001B[39;49m\u001B[38;5;124;43m'\u001B[39;49m\u001B[38;5;130;43;01m\\\u001B[39;49;00m\n\u001B[1;32m      9\u001B[0m \u001B[38;5;124;43m                  --phone 919-515-4557\u001B[39;49m\u001B[38;5;130;43;01m\\\u001B[39;49;00m\n\u001B[1;32m     10\u001B[0m \u001B[38;5;124;43m                  --email jacobjones@ncsu.edu && python3 generate_source.py --name \u001B[39;49m\u001B[38;5;124;43m'\u001B[39;49m\u001B[38;5;124;43mMauro Sardela\u001B[39;49m\u001B[38;5;124;43m'\u001B[39;49m\u001B[38;5;130;43;01m\\\u001B[39;49;00m\n\u001B[1;32m     11\u001B[0m \u001B[38;5;124;43m                  --affiliation \u001B[39;49m\u001B[38;5;124;43m'\u001B[39;49m\u001B[38;5;124;43mUniversity of Illinois at Urbana-Champaign\u001B[39;49m\u001B[38;5;124;43m'\u001B[39;49m\u001B[38;5;130;43;01m\\\u001B[39;49;00m\n\u001B[1;32m     12\u001B[0m \u001B[38;5;124;43m                  --positions \u001B[39;49m\u001B[38;5;124;43m'\u001B[39;49m\u001B[38;5;124;43mDirector, Central Research Facilities, Materials Research Laboratory\u001B[39;49m\u001B[38;5;124;43m'\u001B[39;49m\u001B[38;5;130;43;01m\\\u001B[39;49;00m\n\u001B[1;32m     13\u001B[0m \u001B[38;5;124;43m                  --address \u001B[39;49m\u001B[38;5;124;43m'\u001B[39;49m\u001B[38;5;124;43m104 S. Goodwin Avenue – Urbana IL 61801\u001B[39;49m\u001B[38;5;124;43m'\u001B[39;49m\u001B[38;5;130;43;01m\\\u001B[39;49;00m\n\u001B[1;32m     14\u001B[0m \u001B[38;5;124;43m                  --website www.mrl.illinois.edu\u001B[39;49m\u001B[38;5;130;43;01m\\\u001B[39;49;00m\n\u001B[1;32m     15\u001B[0m \u001B[38;5;124;43m                  --phone 217-244-0547\u001B[39;49m\u001B[38;5;130;43;01m\\\u001B[39;49;00m\n\u001B[1;32m     16\u001B[0m \u001B[38;5;124;43m                  --email sardela@illinois.edu\u001B[39;49m\u001B[38;5;130;43;01m\\\u001B[39;49;00m\n\u001B[1;32m     17\u001B[0m \u001B[38;5;124;43m                  --office \u001B[39;49m\u001B[38;5;124;43m'\u001B[39;49m\u001B[38;5;124;43m#SC2014\u001B[39;49m\u001B[38;5;124;43m'\u001B[39;49m\u001B[38;5;124;43m\"\u001B[39;49m\u001B[43m,\u001B[49m\n\u001B[1;32m     18\u001B[0m \u001B[43m    \u001B[49m\u001B[38;5;66;43;03m# python_callable=datacards,\u001B[39;49;00m\n\u001B[1;32m     19\u001B[0m \u001B[43m    \u001B[49m\u001B[43mretries\u001B[49m\u001B[38;5;241;43m=\u001B[39;49m\u001B[38;5;241;43m3\u001B[39;49m\u001B[43m,\u001B[49m\n\u001B[1;32m     20\u001B[0m \u001B[43m    \u001B[49m\u001B[43mdag\u001B[49m\u001B[38;5;241;43m=\u001B[39;49m\u001B[43mdag\u001B[49m\n\u001B[1;32m     21\u001B[0m \u001B[43m)\u001B[49m\n",
      "\u001B[0;31mTypeError\u001B[0m: 'str' object is not callable"
     ]
    }
   ],
   "source": [
    "task1 = BashOperator(\n",
    "    task_id= yaml_info['tasks'][0]['task_id'],\n",
    "    bash_command=\"cd /Users/bianyiyang/airflow/dags/CRUX/to_cards/ && python3 generate_source.py --name 'Jacob L. Jones'\\\n",
    "                  --affiliation 'North Carolina State University'\\\n",
    "                  --positions 'Kobe Distinguished Professor, Materials Science and Engineering'\\\n",
    "                  --positions 'Director, Science and Technologies for Phosphorus Sustainability (STEPS) Center'\\\n",
    "                  --positions 'Director, Research Triangle Nanotechnology Network'\\\n",
    "                  --address '3072B Engineering Building I, Raleigh, NC'\\\n",
    "                  --phone 919-515-4557\\\n",
    "                  --email jacobjones@ncsu.edu && python3 generate_source.py --name 'Mauro Sardela'\\\n",
    "                  --affiliation 'University of Illinois at Urbana-Champaign'\\\n",
    "                  --positions 'Director, Central Research Facilities, Materials Research Laboratory'\\\n",
    "                  --address '104 S. Goodwin Avenue – Urbana IL 61801'\\\n",
    "                  --website www.mrl.illinois.edu\\\n",
    "                  --phone 217-244-0547\\\n",
    "                  --email sardela@illinois.edu\\\n",
    "                  --office '#SC2014'\",\n",
    "    # python_callable=datacards,\n",
    "    retries=3,\n",
    "    dag=dag\n",
    ")"
   ],
   "metadata": {
    "collapsed": false,
    "pycharm": {
     "name": "#%%\n"
    }
   }
  }
 ],
 "metadata": {
  "kernelspec": {
   "display_name": "Python 3",
   "language": "python",
   "name": "python3"
  },
  "language_info": {
   "codemirror_mode": {
    "name": "ipython",
    "version": 2
   },
   "file_extension": ".py",
   "mimetype": "text/x-python",
   "name": "python",
   "nbconvert_exporter": "python",
   "pygments_lexer": "ipython2",
   "version": "2.7.6"
  }
 },
 "nbformat": 4,
 "nbformat_minor": 0
}